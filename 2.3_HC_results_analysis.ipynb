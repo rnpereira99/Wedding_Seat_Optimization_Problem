{
 "cells": [
  {
   "cell_type": "code",
   "execution_count": 8,
   "id": "22ab352f",
   "metadata": {},
   "outputs": [],
   "source": [
    "import pandas as pd\n",
    "import numpy as np\n",
    "import matplotlib.pyplot as plt\n",
    "import random\n",
    "from copy import deepcopy\n",
    "from functools import partial\n",
    "import os\n",
    "from itertools import product\n",
    "import json\n",
    "import math\n"
   ]
  },
  {
   "cell_type": "code",
   "execution_count": 9,
   "id": "4ce9e523",
   "metadata": {},
   "outputs": [],
   "source": [
    "import sys\n",
    "\n",
    "sys.path.append(\"..\")\n",
    "\n",
    "from functions.utils import *\n",
    "from functions.crossover import *\n",
    "from functions.selection_algos import *\n",
    "from functions.mutations import *\n",
    "from functions.algorithms import *\n",
    "from functions.solutions import *\n",
    "from functions.stats_test import *"
   ]
  },
  {
   "cell_type": "code",
   "execution_count": 10,
   "id": "8de0fe50",
   "metadata": {},
   "outputs": [
    {
     "data": {
      "application/vnd.microsoft.datawrangler.viewer.v0+json": {
       "columns": [
        {
         "name": "index",
         "rawType": "int64",
         "type": "integer"
        },
        {
         "name": "max_iter",
         "rawType": "int64",
         "type": "integer"
        },
        {
         "name": "neighbor",
         "rawType": "object",
         "type": "string"
        },
        {
         "name": "avg_fitness",
         "rawType": "float64",
         "type": "float"
        },
        {
         "name": "std_fitness",
         "rawType": "float64",
         "type": "float"
        },
        {
         "name": "avg_iter",
         "rawType": "float64",
         "type": "float"
        },
        {
         "name": "avg_time",
         "rawType": "float64",
         "type": "float"
        },
        {
         "name": "fitness_scores",
         "rawType": "object",
         "type": "string"
        },
        {
         "name": "fitness_hists",
         "rawType": "object",
         "type": "unknown"
        },
        {
         "name": "final_fitness",
         "rawType": "float64",
         "type": "float"
        }
       ],
       "ref": "d60cb7d9-2311-4a99-ac0b-7dc62dc986ac",
       "rows": [
        [
         "0",
         "6",
         "swap_mutation",
         "39358.0",
         "2647.01",
         "6.0",
         "0.6",
         "[38600.0, 43400.0, 40300.0, 40800.0, 36200.0, 43500.0, 39700.0, 38400.0, 39600.0, 38100.0, 37100.0, 39800.0, 40500.0, 42400.0, 38000.0, 38000.0, 35200.0, 39700.0, 39500.0, 41200.0, 36700.0, 43200.0, 36300.0, 45000.0, 36100.0, 37500.0, 37000.0, 37400.0, 36700.0, 39600.0, 35600.0, 36100.0, 34800.0, 36100.0, 43000.0, 40400.0, 38300.0, 40100.0, 42100.0, 41500.0, 35900.0, 42800.0, 39800.0, 37100.0, 38200.0, 41400.0, 39600.0, 35900.0, 44400.0, 41900.0, 41500.0, 39400.0, 37200.0, 40000.0, 41900.0, 38300.0, 35500.0, 44800.0, 42700.0, 36700.0, 40300.0, 34000.0, 38800.0, 38600.0, 44000.0, 38200.0, 40700.0, 38800.0, 41900.0, 39400.0, 45700.0, 40900.0, 40100.0, 40000.0, 39900.0, 39500.0, 38400.0, 44200.0, 37600.0, 39000.0, 43800.0, 39400.0, 39800.0, 35700.0, 36000.0, 36800.0, 35100.0, 37500.0, 36300.0, 40900.0, 36000.0, 35800.0, 39000.0, 39100.0, 42700.0, 39400.0, 41100.0, 40300.0, 39100.0, 43500.0]",
         "[12150.0, 18350.0, 23300.0, 27450.0, 31750.0, 35750.0, 39400.0]",
         "39400.0"
        ],
        [
         "1",
         "100",
         "swap_mutation",
         "75220.0",
         "2818.32",
         "24.87",
         "2.68",
         "[78900.0, 77900.0, 78900.0, 77200.0, 75200.0, 75400.0, 74000.0, 73600.0, 76200.0, 71700.0, 71700.0, 80900.0, 75800.0, 69800.0, 72200.0, 74300.0, 73600.0, 73600.0, 76600.0, 73600.0, 78900.0, 76000.0, 75800.0, 70800.0, 69500.0, 75700.0, 75600.0, 79000.0, 77000.0, 77200.0]",
         "[10750.0, 17250.0, 22050.0, 26500.0, 30450.0, 34600.0, 38150.0, 41600.0, 45000.0, 47900.0, 50950.0, 53900.0, 56800.0, 59650.0, 62350.0, 64450.0, 66400.0, 68450.0, 69650.0, 70500.0, 71650.0, 72700.0, 73300.0, 73750.0, 74000.0, 75600.0, 75650.0, 75650.0, 75650.0, 75650.0, 75650.0, 75650.0, 75650.0]",
         "75650.0"
        ]
       ],
       "shape": {
        "columns": 9,
        "rows": 2
       }
      },
      "text/html": [
       "<div>\n",
       "<style scoped>\n",
       "    .dataframe tbody tr th:only-of-type {\n",
       "        vertical-align: middle;\n",
       "    }\n",
       "\n",
       "    .dataframe tbody tr th {\n",
       "        vertical-align: top;\n",
       "    }\n",
       "\n",
       "    .dataframe thead th {\n",
       "        text-align: right;\n",
       "    }\n",
       "</style>\n",
       "<table border=\"1\" class=\"dataframe\">\n",
       "  <thead>\n",
       "    <tr style=\"text-align: right;\">\n",
       "      <th></th>\n",
       "      <th>max_iter</th>\n",
       "      <th>neighbor</th>\n",
       "      <th>avg_fitness</th>\n",
       "      <th>std_fitness</th>\n",
       "      <th>avg_iter</th>\n",
       "      <th>avg_time</th>\n",
       "      <th>fitness_scores</th>\n",
       "      <th>fitness_hists</th>\n",
       "      <th>final_fitness</th>\n",
       "    </tr>\n",
       "  </thead>\n",
       "  <tbody>\n",
       "    <tr>\n",
       "      <th>0</th>\n",
       "      <td>6</td>\n",
       "      <td>swap_mutation</td>\n",
       "      <td>39358.0</td>\n",
       "      <td>2647.01</td>\n",
       "      <td>6.00</td>\n",
       "      <td>0.60</td>\n",
       "      <td>[38600.0, 43400.0, 40300.0, 40800.0, 36200.0, ...</td>\n",
       "      <td>[12150.0, 18350.0, 23300.0, 27450.0, 31750.0, ...</td>\n",
       "      <td>39400.0</td>\n",
       "    </tr>\n",
       "    <tr>\n",
       "      <th>1</th>\n",
       "      <td>100</td>\n",
       "      <td>swap_mutation</td>\n",
       "      <td>75220.0</td>\n",
       "      <td>2818.32</td>\n",
       "      <td>24.87</td>\n",
       "      <td>2.68</td>\n",
       "      <td>[78900.0, 77900.0, 78900.0, 77200.0, 75200.0, ...</td>\n",
       "      <td>[10750.0, 17250.0, 22050.0, 26500.0, 30450.0, ...</td>\n",
       "      <td>75650.0</td>\n",
       "    </tr>\n",
       "  </tbody>\n",
       "</table>\n",
       "</div>"
      ],
      "text/plain": [
       "   max_iter       neighbor  avg_fitness  std_fitness  avg_iter  avg_time  \\\n",
       "0         6  swap_mutation      39358.0      2647.01      6.00      0.60   \n",
       "1       100  swap_mutation      75220.0      2818.32     24.87      2.68   \n",
       "\n",
       "                                      fitness_scores  \\\n",
       "0  [38600.0, 43400.0, 40300.0, 40800.0, 36200.0, ...   \n",
       "1  [78900.0, 77900.0, 78900.0, 77200.0, 75200.0, ...   \n",
       "\n",
       "                                       fitness_hists  final_fitness  \n",
       "0  [12150.0, 18350.0, 23300.0, 27450.0, 31750.0, ...        39400.0  \n",
       "1  [10750.0, 17250.0, 22050.0, 26500.0, 30450.0, ...        75650.0  "
      ]
     },
     "execution_count": 10,
     "metadata": {},
     "output_type": "execute_result"
    }
   ],
   "source": [
    "hc_file = \"results/hc_results.csv\"\n",
    "\n",
    "final_res = pd.read_csv(hc_file)\n",
    "final_res[\"fitness_hists\"] = final_res[\"fitness_hists\"].apply(json.loads)\n",
    "final_res[\"final_fitness\"] = final_res[\"fitness_hists\"].apply(lambda x: x[-1])\n",
    "final_res"
   ]
  },
  {
   "cell_type": "markdown",
   "id": "61f07b1c",
   "metadata": {},
   "source": [
    "> The model stabilizes at 30 iterations to a good solution. <br>\n",
    "Even if HC is a local search model we define a neigbor function which is extensive enough to explore the search space. "
   ]
  },
  {
   "cell_type": "code",
   "execution_count": 11,
   "id": "ce175f51",
   "metadata": {},
   "outputs": [
    {
     "data": {
      "image/png": "[encoded data removed]",
      "text/plain": [
       "<Figure size 640x480 with 1 Axes>"
      ]
     },
     "metadata": {},
     "output_type": "display_data"
    }
   ],
   "source": [
    "y = final_res[\"fitness_hists\"].iloc[1]\n",
    "x = list(range(len(y)))\n",
    "\n",
    "plt.plot(x, y, label=f\"Final fitness: {y[-1]}\")\n",
    "plt.title(\"Hill Climbing\")\n",
    "plt.xlabel(\"Iterations\")\n",
    "plt.ylabel(\"Fitness\")\n",
    "plt.legend()\n",
    "plt.show()"
   ]
  }
 ],
 "metadata": {
  "kernelspec": {
   "display_name": "base",
   "language": "python",
   "name": "python3"
  },
  "language_info": {
   "codemirror_mode": {
    "name": "ipython",
    "version": 3
   },
   "file_extension": ".py",
   "mimetype": "text/x-python",
   "name": "python",
   "nbconvert_exporter": "python",
   "pygments_lexer": "ipython3",
   "version": "3.12.7"
  }
 },
 "nbformat": 4,
 "nbformat_minor": 5
}
