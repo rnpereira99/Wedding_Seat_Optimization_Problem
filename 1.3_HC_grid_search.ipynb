{
 "cells": [
  {
   "cell_type": "markdown",
   "id": "27a6b5c1",
   "metadata": {},
   "source": [
    "# Running Hill Climbing"
   ]
  },
  {
   "cell_type": "code",
   "execution_count": 1,
   "id": "797ce9da",
   "metadata": {},
   "outputs": [],
   "source": [
    "import pandas as pd\n",
    "import numpy as np\n",
    "import random\n",
    "from copy import deepcopy\n",
    "from itertools import product\n",
    "import os\n",
    "import json"
   ]
  },
  {
   "cell_type": "code",
   "execution_count": 2,
   "id": "13e8cca2",
   "metadata": {},
   "outputs": [],
   "source": [
    "import sys\n",
    "\n",
    "sys.path.append(\"..\")\n",
    "\n",
    "from functions.utils import *\n",
    "from functions.crossover import *\n",
    "from functions.selection_algos import *\n",
    "from functions.mutations import *\n",
    "from functions.algorithms import *\n",
    "from functions.solutions import *"
   ]
  },
  {
   "cell_type": "code",
   "execution_count": 3,
   "id": "7af665f3",
   "metadata": {},
   "outputs": [],
   "source": [
    "scores = pd.read_csv(\"data/seating_data(in).csv\", index_col=0)\n",
    "scores_array = scores.to_numpy()"
   ]
  },
  {
   "cell_type": "markdown",
   "id": "626bff9f",
   "metadata": {},
   "source": [
    "> To compare algorithms we wan to run 10_000 fitness evaluations. <br>\n",
    "For every iteration the HC evaluates 1792 neighbors so we will have a maximum of around 6 iterations (6*1792 = 10_752 FE). \n",
    "\n",
    "> We will also run for 100 iterations to see the evolution of the model"
   ]
  },
  {
   "cell_type": "code",
   "execution_count": 4,
   "id": "7943aff5",
   "metadata": {},
   "outputs": [],
   "source": [
    "max_iters = [6, 100]\n",
    "neighbor_ops = [swap_mutation]"
   ]
  },
  {
   "cell_type": "code",
   "execution_count": 5,
   "id": "02a8e963",
   "metadata": {},
   "outputs": [],
   "source": [
    "results_file = \"results/hc_results.csv\"\n",
    "\n",
    "if os.path.exists(results_file):\n",
    "    df_existing = pd.read_csv(results_file)\n",
    "    tested_configs = set(\n",
    "        (row[\"max_iter\"], row[\"neighbor\"]) for _, row in df_existing.iterrows()\n",
    "    )\n",
    "else:\n",
    "    df_existing = pd.DataFrame()\n",
    "    tested_configs = set()"
   ]
  },
  {
   "cell_type": "code",
   "execution_count": 6,
   "id": "55426a96",
   "metadata": {},
   "outputs": [
    {
     "name": "stdout",
     "output_type": "stream",
     "text": [
      "Skipping tested config: (6, 'swap_mutation')\n",
      "Skipping tested config: (100, 'swap_mutation')\n"
     ]
    }
   ],
   "source": [
    "for max_iter, neighbor_fn in product(max_iters, neighbor_ops):\n",
    "    config_key = (max_iter, neighbor_fn.__name__)\n",
    "\n",
    "    if config_key in tested_configs:\n",
    "        print(f\"Skipping tested config: {config_key}\")\n",
    "        continue\n",
    "\n",
    "    print(f\"Running HC with config: {config_key}\")\n",
    "    fitnesses, conv_iters, conv_times, fitness_hists = [], [], [], []\n",
    "\n",
    "    for _ in range(100):\n",
    "        sol = Wedding_HC_Solution(scores=scores_array)\n",
    "\n",
    "        # Exhaustive neighborhood is built into Wedding_HC_Solution\n",
    "        best_sol, fitness_hist, conv_iter, conv_time = hill_climbing(\n",
    "            initial_solution=sol, max_iter=max_iter, maximization=True, verbose=False\n",
    "        )\n",
    "\n",
    "        fitnesses.append(best_sol.fitness())\n",
    "        fitness_hists.append(fitness_hist)\n",
    "        conv_iters.append(conv_iter)\n",
    "        conv_times.append(conv_time)\n",
    "\n",
    "    avg_fit = round(np.mean(fitnesses), 2)\n",
    "    std_fit = round(np.std(fitnesses), 2)\n",
    "    avg_iter = round(np.mean(conv_iters), 2)\n",
    "    avg_time = round(np.mean(conv_times), 2)\n",
    "    \n",
    "    fitness_hists_median = np.median(fitness_hists, axis=0)\n",
    "\n",
    "    print(\n",
    "        f\"Avg fitness: {avg_fit}, Std: {std_fit}, Iter: {avg_iter}, Time: {avg_time}s\"\n",
    "    )\n",
    "\n",
    "    df_new = pd.DataFrame(\n",
    "        [\n",
    "            {\n",
    "                \"max_iter\": max_iter,\n",
    "                \"neighbor\": neighbor_fn.__name__,\n",
    "                \"avg_fitness\": avg_fit,\n",
    "                \"std_fitness\": std_fit,\n",
    "                \"avg_iter\": avg_iter,\n",
    "                \"avg_time\": avg_time,\n",
    "                \"fitness_scores\": json.dumps([float(f) for f in fitnesses]),\n",
    "                \"fitness_hists\": json.dumps([float(f) for f in fitness_hists_median]),\n",
    "            }\n",
    "        ]\n",
    "    )\n",
    "\n",
    "    if os.path.exists(results_file):\n",
    "        df_new.to_csv(results_file, mode=\"a\", index=False, header=False)\n",
    "    else:\n",
    "        df_new.to_csv(results_file, index=False)\n"
   ]
  }
 ],
 "metadata": {
  "kernelspec": {
   "display_name": "base",
   "language": "python",
   "name": "python3"
  },
  "language_info": {
   "codemirror_mode": {
    "name": "ipython",
    "version": 3
   },
   "file_extension": ".py",
   "mimetype": "text/x-python",
   "name": "python",
   "nbconvert_exporter": "python",
   "pygments_lexer": "ipython3",
   "version": "3.12.7"
  }
 },
 "nbformat": 4,
 "nbformat_minor": 5
}
